{
 "cells": [
  {
   "cell_type": "code",
   "execution_count": 1,
   "metadata": {},
   "outputs": [],
   "source": [
    "from sklearn.feature_selection import RFECV\n",
    "from sklearn.model_selection import KFold, train_test_split\n",
    "from sklearn.linear_model import LogisticRegression\n",
    "from sklearn import preprocessing\n",
    "from sklearn.utils import class_weight\n",
    "import pandas as pd\n",
    "import numpy as np\n",
    "import matplotlib.pyplot as plt\n",
    "\n",
    "np.random.seed(42)"
   ]
  },
  {
   "cell_type": "code",
   "execution_count": null,
   "metadata": {},
   "outputs": [],
   "source": [
    "def prepare_data(X, Y, delete_equal, weighted):\n",
    "    #normalize data\n",
    "    min_max_scaler = preprocessing.MinMaxScaler()\n",
    "    x_scaled = min_max_scaler.fit_transform(X)\n",
    "    X_norm = pd.DataFrame(x_scaled)\n",
    "  \n",
    "    #define classweights to balance classes 50/50\n",
    "    if (weighted):\n",
    "        weights = class_weight.compute_class_weight('balanced', np.array([0,1]), Y)\n",
    "        class_weights = {0:1, 1: weights[1]/weights[0]}     \n",
    "    else:\n",
    "        class_weights = {0:1, 1:1}\n",
    "  \n",
    "\n",
    "    return (X_norm, class_weights)"
   ]
  },
  {
   "cell_type": "markdown",
   "metadata": {},
   "source": [
    "## Format: m4a"
   ]
  },
  {
   "cell_type": "code",
   "execution_count": null,
   "metadata": {},
   "outputs": [],
   "source": [
    "#Data with the outcome\n",
    "Y = pd.read_csv(\"../Data/prediCovid_taste_loss_dataset_B_trim_june.csv\")\n",
    "\n",
    "#Filter the outcome for m4a format only\n",
    "Y = Y[Y[\"format\"]==\"m4a\"][\"lossTaste_daily\"]\n",
    "\n",
    "#load OpenSMILE features\n",
    "df = pd.read_pickle(\"../Data/m4a_type1_type2_openSMILE.pkl\")\n",
    "df = df.drop(columns = [\"ID_short\"])\n",
    "\n",
    "#feature names\n",
    "features = df.columns\n",
    "\n",
    "X = pd.DataFrame(np.array(df))\n",
    "\n",
    "#Separate test and train\n",
    "X_fold, X_test, Y_fold, Y_test = train_test_split(X, Y, test_size = 0.2, random_state = 42, stratify = Y) \n",
    "X_norm, class_weights = prepare_data(X_fold, Y_fold, delete_equal = 1, weighted = 1)"
   ]
  },
  {
   "cell_type": "code",
   "execution_count": null,
   "metadata": {},
   "outputs": [],
   "source": [
    "min_features_to_select = 10\n",
    "\n",
    "estimator = LogisticRegression(class_weight = class_weights, max_iter = 10000, random_state = 42)\n",
    "rfecv = RFECV(estimator=estimator, step=25, cv=KFold(10, shuffle = True, random_state = 42), scoring='roc_auc', min_features_to_select=min_features_to_select, verbose = 1)\n",
    "selector = rfecv.fit(X_norm, Y_fold)"
   ]
  },
  {
   "cell_type": "code",
   "execution_count": null,
   "metadata": {},
   "outputs": [],
   "source": [
    "print(\"Optimal number of features : %d\" % rfecv.n_features_)"
   ]
  },
  {
   "cell_type": "code",
   "execution_count": null,
   "metadata": {},
   "outputs": [],
   "source": [
    "# Plot number of features VS. cross-validation scores\n",
    "plt.figure()\n",
    "plt.xlabel(\"Number of features\")\n",
    "plt.ylabel(\"Cross validation ROC_AUC score\")\n",
    "plt.plot(np.multiply(range(min_features_to_select, len(selector.grid_scores_) + min_features_to_select),25), selector.grid_scores_)\n",
    "plt.vlines(849,0.640,0.790, color = \"r\", linestyle = \"--\")\n",
    "plt.hlines(0.790, 10, 849, color = \"r\", linestyle = \"--\")\n",
    "\n",
    "plt.savefig(\"../openSMILE/m4a_rfecv.png\")\n",
    "plt.show()\n"
   ]
  },
  {
   "cell_type": "code",
   "execution_count": null,
   "metadata": {},
   "outputs": [],
   "source": [
    "rfe = features[selector.support_]\n",
    "rfe_selected = df[rfe.to_list()]\n",
    "rfe_selected.to_csv(\"../openSMILE/m4a/type1_type2/rfe_cv_m4a_type1_type2.csv\")"
   ]
  },
  {
   "cell_type": "markdown",
   "metadata": {},
   "source": [
    "## Format 3gp"
   ]
  },
  {
   "cell_type": "code",
   "execution_count": null,
   "metadata": {},
   "outputs": [],
   "source": [
    "#Data with the outcome\n",
    "Y = pd.read_csv(\"../Data/prediCovid_taste_loss_dataset_B_trim_june.csv\")\n",
    "\n",
    "#Filter the outcome for m4a format only\n",
    "Y = Y[Y[\"format\"]==\"3gp\"][\"lossTaste_daily\"]\n",
    "\n",
    "#load OpenSMILE features\n",
    "df = pd.read_pickle(\"../Data/3gp_type1_type2_openSMILE.pkl\")\n",
    "df = df.drop(columns = [\"ID_short\"])\n",
    "\n",
    "#feature names\n",
    "features = df.columns\n",
    "\n",
    "X = pd.DataFrame(np.array(df))\n",
    "\n",
    "#Separate test and train\n",
    "X_fold, X_test, Y_fold, Y_test = train_test_split(X, Y, test_size = 0.2, random_state = 42, stratify = Y) \n",
    "X_norm, class_weights = prepare_data(X_fold, Y_fold, delete_equal = 1, weighted = 1)"
   ]
  },
  {
   "cell_type": "code",
   "execution_count": null,
   "metadata": {},
   "outputs": [],
   "source": [
    "min_features_to_select = 10\n",
    "\n",
    "estimator = LogisticRegression(class_weight = class_weights, max_iter = 10000, random_state = 42)\n",
    "rfecv = RFECV(estimator=estimator, step=25, cv=KFold(10, shuffle = True, random_state = 42), scoring='roc_auc', min_features_to_select=min_features_to_select)\n",
    "selector = rfecv.fit(X_norm, Y_fold)"
   ]
  },
  {
   "cell_type": "code",
   "execution_count": null,
   "metadata": {},
   "outputs": [],
   "source": [
    "print(\"Optimal number of features : %d\" % rfecv.n_features_)"
   ]
  },
  {
   "cell_type": "code",
   "execution_count": null,
   "metadata": {},
   "outputs": [],
   "source": [
    "# Plot number of features versus cross-validation scores\n",
    "plt.figure()\n",
    "plt.xlabel(\"Number of features\")\n",
    "plt.ylabel(\"Cross validation ROC_AUC score\")\n",
    "plt.plot(np.multiply(range(min_features_to_select, len(selector.grid_scores_) + min_features_to_select), 25),\n",
    "         selector.grid_scores_)\n",
    "plt.vlines(3248,0.74,0.844, color = \"r\", linestyle = \"--\")\n",
    "plt.hlines(0.844, 10, 3248, color = \"r\", linestyle = \"--\")\n",
    "\n",
    "plt.savefig(\"../openSMILE/3gp_rfecv.png\")\n",
    "\n",
    "plt.show()"
   ]
  },
  {
   "cell_type": "code",
   "execution_count": null,
   "metadata": {},
   "outputs": [],
   "source": [
    "rfe = features[selector.support_]\n",
    "rfe_selected = df[rfe.to_list()]\n",
    "rfe_selected.to_csv(\"../openSMILE/3gp/type1_type2/rfe_cv_3gp_type1_type2.csv\")"
   ]
  }
 ],
 "metadata": {
  "kernelspec": {
   "display_name": "Python 3",
   "language": "python",
   "name": "python3"
  },
  "language_info": {
   "codemirror_mode": {
    "name": "ipython",
    "version": 3
   },
   "file_extension": ".py",
   "mimetype": "text/x-python",
   "name": "python",
   "nbconvert_exporter": "python",
   "pygments_lexer": "ipython3",
   "version": "3.8.5"
  }
 },
 "nbformat": 4,
 "nbformat_minor": 4
}
