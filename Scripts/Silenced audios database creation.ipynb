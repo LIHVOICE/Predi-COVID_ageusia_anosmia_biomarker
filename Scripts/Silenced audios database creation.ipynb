{
 "cells": [
  {
   "cell_type": "code",
   "execution_count": null,
   "metadata": {},
   "outputs": [],
   "source": [
    "import pandas as pd\n",
    "import librosa, librosa.display\n",
    "import numpy as np\n",
    "\n",
    "np.random.seed(42)"
   ]
  },
  {
   "cell_type": "markdown",
   "metadata": {},
   "source": [
    "## Create DB only with type 1 & type2 + silence"
   ]
  },
  {
   "cell_type": "code",
   "execution_count": null,
   "metadata": {},
   "outputs": [],
   "source": [
    "#dataset with type 1 and type 2\n",
    "datasetB = pd.read_csv(\"../data/prediCovid_taste_loss_dataset_B_trim_june.csv\")\n",
    "datasetB.lossTaste_daily.value_counts()"
   ]
  },
  {
   "cell_type": "code",
   "execution_count": null,
   "metadata": {},
   "outputs": [],
   "source": [
    "#Function that concatenates two different audios\n",
    "def concatenate_no_silence(df):\n",
    "        for index, row  in df.iterrows():\n",
    "            if(index%100 == 0):\n",
    "                print(index, end = '\\r')\n",
    "            \n",
    "            #concatenation\n",
    "            #row[8] is the audio ID, should be changed based on the input data configuration\n",
    "            file1 = \"Data\\\\wav_june\\\\\" + row[8] + \"_1.\" + \"wav\"\n",
    "            file2 = \"Data\\\\wav_june\\\\\" + row[8] + \"_2.\" + \"wav\"\n",
    "            \n",
    "            #load audios\n",
    "            audio1, sr1 = librosa.load(file1, sr = 8000)\n",
    "            audio2, sr2 = librosa.load(file2, sr = 8000)\n",
    "\n",
    "            #stack type 1 and type 2 audios\n",
    "            concatenated_audio = np.hstack((audio1, audio2))\n",
    "            concatenated_audio = concatenated_audio.astype('float64')\n",
    "            \n",
    "            #the path should be changed based on variations on the file name\n",
    "            path = file1[0:5] + \"wav_no_silence_june\\\\\" + file1[14:-6] + file1[-4:]\n",
    "            \n",
    "            sf.write(path, concatenated_audio, sr1, subtype='FLOAT')\n",
    "        \n",
    "        return ID_short, duration"
   ]
  },
  {
   "cell_type": "code",
   "execution_count": null,
   "metadata": {
    "scrolled": true
   },
   "outputs": [],
   "source": [
    "concatenate_no_silence(datasetB)"
   ]
  }
 ],
 "metadata": {
  "kernelspec": {
   "display_name": "Python 3",
   "language": "python",
   "name": "python3"
  },
  "language_info": {
   "codemirror_mode": {
    "name": "ipython",
    "version": 3
   },
   "file_extension": ".py",
   "mimetype": "text/x-python",
   "name": "python",
   "nbconvert_exporter": "python",
   "pygments_lexer": "ipython3",
   "version": "3.8.5"
  }
 },
 "nbformat": 4,
 "nbformat_minor": 4
}
