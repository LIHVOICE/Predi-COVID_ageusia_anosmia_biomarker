{
 "cells": [
  {
   "cell_type": "code",
   "execution_count": null,
   "metadata": {},
   "outputs": [],
   "source": [
    "import opensmile\n",
    "import numpy as np\n",
    "import pandas as pd\n",
    "import librosa\n",
    "\n",
    "import matplotlib.pyplot as plt\n",
    "import matplotlib.patches as mpatches\n",
    "import seaborn as sns\n",
    "from scipy import stats\n",
    "\n",
    "np.random.seed(42)"
   ]
  },
  {
   "cell_type": "code",
   "execution_count": 1,
   "metadata": {},
   "outputs": [],
   "source": [
    "#This function extract the features (functionals or low-level descriptors) using the OpenSMILE set\n",
    "#df: data frame with the name of the audios to be used\n",
    "\n",
    "def extract_features(df, path_to_audios, path_to_save, sample_rate, features_subset):\n",
    "    features_opensmile_func = pd.DataFrame()\n",
    "    \n",
    "    #creation of the OpenSMILE extractor\n",
    "    #using ComParE 2016 and all the functional features\n",
    "    if(features_subset == \"functionals\"):\n",
    "        smile_func = opensmile.Smile(\n",
    "            feature_set=opensmile.FeatureSet.ComParE_2016,\n",
    "            feature_level=opensmile.FeatureLevel.Functionals,\n",
    "        )\n",
    "        \n",
    "    #using ComParE 2016 and all the low-level descriptors as features\n",
    "    elif(features_subset == \"lld\"): \n",
    "        smile_func = opensmile.Smile(\n",
    "            feature_set=opensmile.FeatureSet.ComParE_2016,\n",
    "            feature_level=opensmile.FeatureLevel.LowLevelDescriptors,\n",
    "        )\n",
    "        \n",
    "    for index,row in df.iterrows():\n",
    "        if(index%10==0):\n",
    "            print(index, end='\\r')\n",
    "        \n",
    "        #create the path and load each audio\n",
    "        file = path_to_audios + row[8] + \".wav\" \n",
    "        audio, sr = librosa.load(file, sr = sample_rate)\n",
    "        \n",
    "        #extract the features\n",
    "        f_func = smile_func.process_signal(signal=audio, sampling_rate=sr)\n",
    "        \n",
    "        #Prepare the final dataset with participant ID, format and features\n",
    "        f_flat_func = pd.DataFrame(np.array(f_func))\n",
    "        f_flat_func.columns = f_func.columns\n",
    "        \n",
    "        #add ID and format alongside the features\n",
    "        f_flat_func.insert(loc=0, column='ID_short', value=row[8])\n",
    "        features_opensmile_func = features_opensmile_func.append(f_flat_func)\n",
    "    \n",
    "    features_opensmile_func.reset_index(drop = True, inplace = True)\n",
    "    \n",
    "    #Drop all column that the feature is equal zero troughout all samples\n",
    "    count = 0\n",
    "    for column in features_opensmile_func.columns:\n",
    "        summ = np.sum(features_opensmile_func[column])\n",
    "        if(summ == 0):\n",
    "            features_opensmile_func.drop(columns = [column], inplace = True)\n",
    "            count += 1\n",
    "    \n",
    "    #Useful data and saving to file\n",
    "    print(\"{} fetures have been removed due to zeros-values\".format(count))\n",
    "    print(\"{} features remaining\".format(len(features_opensmile_func.columns)-1))\n",
    "    print(\"\\nSaving to file...\")\n",
    "    \n",
    "    #Protocol 4 must be used in order to be able to open in google colab\n",
    "    features_opensmile_func.to_pickle(path_to_save,protocol = 4)\n",
    "    \n",
    "    print(\"All done!\")\n",
    "    \n",
    "    return features_opensmile_func"
   ]
  },
  {
   "cell_type": "markdown",
   "metadata": {},
   "source": [
    "# 3gp"
   ]
  },
  {
   "cell_type": "code",
   "execution_count": null,
   "metadata": {},
   "outputs": [],
   "source": [
    "data_3gp = pd.read_csv(\"../data/prediCovid_taste_loss_dataset_B_trim_june.csv\")\n",
    "data_3gp = data_3gp[data_3gp[\"format\"]==\"3gp\"]\n",
    "data_3gp.info()"
   ]
  },
  {
   "cell_type": "markdown",
   "metadata": {},
   "source": [
    "## Type1 et Type2"
   ]
  },
  {
   "cell_type": "code",
   "execution_count": null,
   "metadata": {},
   "outputs": [],
   "source": [
    "path_to_audios = \"..\\\\Data\\\\wav_no_silence_june\\\\\"\n",
    "path_to_save = \"..\\\\Data\\\\openSMILE\\\\3gp\\\\type1_type2\\\\3gp_lld_type1_type2_openSMILE.pkl\"\n",
    "\n",
    "#Change last parameter to \"functionals\" to extract training features instead\n",
    "x = extract_features(data_3gp, path_to_audios, path_to_save, 8000, \"lld\")"
   ]
  },
  {
   "cell_type": "code",
   "execution_count": null,
   "metadata": {},
   "outputs": [],
   "source": [
    "df = pd.read_pickle(path_to_save)\n",
    "df.insert(1, \"class\", data_3gp.lossTaste_daily)\n",
    "\n",
    "#label of each low level descriptor\n",
    "labels = pd.read_excel(\"../Data/llds_ComParE.xlsx\")\n",
    "\n",
    "#separate positive from negative\n",
    "df_pos = df[df[\"class\"]==1].drop(columns = [\"ID_short\",\"class\"])\n",
    "df_neg = df[df[\"class\"]==0].drop(columns = [\"ID_short\",\"class\"])\n",
    "\n",
    "#array with the names of all features\n",
    "names = [\"duration\"] + label[\"label\"].to_list()\n"
   ]
  },
  {
   "cell_type": "code",
   "execution_count": null,
   "metadata": {},
   "outputs": [],
   "source": [
    "fig, axs = plt.subplots(9, 8, figsize=(25, 20))\n",
    "\n",
    "features = df_pos.columns\n",
    "count = 0\n",
    "\n",
    "#iterate trough graph matrix\n",
    "for i in range(9):\n",
    "      for j in range(8):\n",
    "        if(count == 67):\n",
    "              break\n",
    "\n",
    "        axs[i,j].tick_params(left=False,\n",
    "                             bottom=True,\n",
    "                             labelleft=False,\n",
    "                             labelbottom=False)\n",
    "\n",
    "        axs[i,j].set_title(str(names[count]))\n",
    "\n",
    "        #plot positive density\n",
    "        sns.distplot(df_pos[features[count]], hist = False, kde = True, color = \"r\", \n",
    "                      label = str(names[count]), ax = axs[i,j])\n",
    "        \n",
    "        #plot negative density\n",
    "        sns.distplot(df_neg[features[count]], hist = False, kde = True, color = \"b\", \n",
    "                      label = str(names[count]), ax = axs[i,j])\n",
    "\n",
    "        count += 1\n",
    "\n",
    "red_patch = mpatches.Patch(color='red', label='Positive')\n",
    "blue_patch = mpatches.Patch(color='blue', label='Negative')\n",
    "plt.legend(handles=[red_patch, blue_patch])\n",
    "plt.savefig(\"../Data/openSMILE/3gp_lld.png\")\n",
    "plt.show()\n",
    "  \n"
   ]
  },
  {
   "cell_type": "markdown",
   "metadata": {
    "heading_collapsed": true
   },
   "source": [
    "# m4a"
   ]
  },
  {
   "cell_type": "code",
   "execution_count": null,
   "metadata": {
    "hidden": true
   },
   "outputs": [],
   "source": [
    "data_m4a = pd.read_csv(\"../data/prediCovid_taste_loss_dataset_B_trim_june.csv\")\n",
    "data_m4a = data_m4a[data_m4a[\"format\"]==\"m4a\"]\n",
    "data_m4a.info()"
   ]
  },
  {
   "cell_type": "markdown",
   "metadata": {
    "hidden": true
   },
   "source": [
    "## Type1 et Type2"
   ]
  },
  {
   "cell_type": "code",
   "execution_count": null,
   "metadata": {
    "hidden": true
   },
   "outputs": [],
   "source": [
    "path_to_audios = \"..\\Data\\\\wav_no_silence_june\\\\\"\n",
    "path_to_save = \"..\\Data\\\\openSMILE\\\\m4a\\\\type1_type2\\\\m4a_lld_type1_type2_openSMILE.pkl\"\n",
    "\n",
    "#Change last parameter to \"functionals\" to extract training features\n",
    "x = extract_features(data_m4a, path_to_audios, path_to_save, 8000, \"lll\")"
   ]
  },
  {
   "cell_type": "code",
   "execution_count": null,
   "metadata": {
    "hidden": true
   },
   "outputs": [],
   "source": [
    "df = pd.read_pickle(path_to_save)\n",
    "df.insert(1, \"class\", data_m4a.lossTaste_daily)\n",
    "\n",
    "#label of each low level descriptor\n",
    "labels = pd.read_excel(\"../Data/llds_ComParE.xlsx\")\n",
    "\n",
    "#separate positive from negative\n",
    "df_pos = df[df[\"class\"]==1].drop(columns = [\"ID_short\",\"class\"])\n",
    "df_neg = df[df[\"class\"]==0].drop(columns = [\"ID_short\",\"class\"])\n",
    "\n",
    "#array with the names of all features\n",
    "names = [\"duration\"] + label[\"label\"].to_list()"
   ]
  },
  {
   "cell_type": "code",
   "execution_count": null,
   "metadata": {
    "hidden": true
   },
   "outputs": [],
   "source": [
    "fig, axs = plt.subplots(9, 8, figsize=(25, 20))\n",
    "\n",
    "features = df_pos.columns\n",
    "count = 0\n",
    "\n",
    "#iterate trough graphic matrix\n",
    "for i in range(9):\n",
    "      for j in range(8):\n",
    "        if(count == 67):\n",
    "              break\n",
    "\n",
    "        axs[i,j].tick_params(left=False,\n",
    "                             bottom=True,\n",
    "                             labelleft=False,\n",
    "                             labelbottom=False)\n",
    "\n",
    "        axs[i,j].set_title(str(names[count]))\n",
    "\n",
    "        #plot positive density\n",
    "        sns.distplot(df_pos[features[count]], hist = False, kde = True, color = \"r\", \n",
    "                      label = str(names[count]), ax = axs[i,j])\n",
    "        \n",
    "        #plot negative density\n",
    "        sns.distplot(df_neg[features[count]], hist = False, kde = True, color = \"b\", \n",
    "                      label = str(names[count]), ax = axs[i,j])\n",
    "\n",
    "        count += 1\n",
    "\n",
    "red_patch = mpatches.Patch(color='red', label='Positive')\n",
    "blue_patch = mpatches.Patch(color='blue', label='Negative')\n",
    "plt.legend(handles=[red_patch, blue_patch])\n",
    "plt.savefig(\"../Data/openSMILE/m4a_lld.png\")\n",
    "plt.show()"
   ]
  }
 ],
 "metadata": {
  "kernelspec": {
   "display_name": "Python 3",
   "language": "python",
   "name": "python3"
  },
  "language_info": {
   "codemirror_mode": {
    "name": "ipython",
    "version": 3
   },
   "file_extension": ".py",
   "mimetype": "text/x-python",
   "name": "python",
   "nbconvert_exporter": "python",
   "pygments_lexer": "ipython3",
   "version": "3.8.5"
  }
 },
 "nbformat": 4,
 "nbformat_minor": 4
}
