{
 "cells": [
  {
   "cell_type": "code",
   "execution_count": null,
   "metadata": {
    "id": "twL2nFSzTdpn"
   },
   "outputs": [],
   "source": [
    "import pandas as pd\n",
    "import numpy as np\n",
    "import matplotlib.pyplot as plt\n",
    "\n",
    "from sklearn import preprocessing, svm, datasets, metrics, model_selection\n",
    "from sklearn.metrics import confusion_matrix, classification_report, ConfusionMatrixDisplay, roc_auc_score, roc_curve, accuracy_score\n",
    "from sklearn.model_selection import KFold, cross_val_score, GridSearchCV, train_test_split, StratifiedKFold\n",
    "from sklearn.neighbors import KNeighborsClassifier\n",
    "from sklearn.tree import DecisionTreeClassifier\n",
    "from sklearn.linear_model import LogisticRegression\n",
    "from sklearn.gaussian_process.kernels import RBF\n",
    "from sklearn.utils import class_weight\n",
    "from sklearn.ensemble import RandomForestClassifier, GradientBoostingClassifier, AdaBoostClassifier, VotingClassifier\n",
    "from sklearn.naive_bayes import GaussianNB\n",
    "\n",
    "np.random.seed(42)"
   ]
  },
  {
   "cell_type": "code",
   "execution_count": null,
   "metadata": {
    "id": "wbtSrjLFbsMQ"
   },
   "outputs": [],
   "source": [
    "def prepare_data(X, Y, delete_equal, weighted):\n",
    "    #normalize data\n",
    "    min_max_scaler = preprocessing.MinMaxScaler()\n",
    "    x_scaled = min_max_scaler.fit_transform(X)\n",
    "    X_norm = pd.DataFrame(x_scaled)\n",
    "  \n",
    "    #define classweights to balance classes 50/50\n",
    "    if (weighted):\n",
    "        weights = class_weight.compute_class_weight('balanced', np.array([0,1]), Y)\n",
    "        class_weights = {0:1, 1: weights[1]/weights[0]}     \n",
    "    else:\n",
    "        class_weights = {0:1, 1:1}\n",
    "  \n",
    "\n",
    "  return (X_norm, class_weights)"
   ]
  },
  {
   "cell_type": "code",
   "execution_count": null,
   "metadata": {
    "id": "-dbFPVt3dBHW"
   },
   "outputs": [],
   "source": [
    "def evaluate(X_test,Y_test, Y_pred, model_name):\n",
    "    predictions = Y_pred\n",
    "\n",
    "    print(classification_report(Y_test, predictions))\n",
    "\n",
    "    cm = confusion_matrix(Y_test, predictions)\n",
    "    disp = ConfusionMatrixDisplay(confusion_matrix=cm, display_labels = np.array([0,1]))\n",
    "    disp = disp.plot(include_values=True, cmap=plt.cm.Blues , xticks_rotation='vertical', values_format = '.5g')\n",
    "    disp.ax_.set_title(model_name)\n",
    "    \n",
    "    #important: the auc on graph is not the weighted one\n",
    "    metrics.plot_roc_curve(model,X_test,Y_test)\n",
    "    \n",
    "    print(round(roc_auc_score(Y_test, Y_pred, average = \"weighted\"),2))"
   ]
  },
  {
   "cell_type": "markdown",
   "metadata": {
    "id": "0wfgvzwJTmMk"
   },
   "source": [
    "# 3gp"
   ]
  },
  {
   "cell_type": "markdown",
   "metadata": {
    "id": "z0Q1PHsxToSM"
   },
   "source": [
    "## Type1 and Type2"
   ]
  },
  {
   "cell_type": "code",
   "execution_count": null,
   "metadata": {
    "id": "1vHEUJ-tbZph"
   },
   "outputs": [],
   "source": [
    "Y = pd.read_csv(\"../Data/prediCovid_taste_loss_dataset_B_trim_june.csv\")\n",
    "Y = Y[Y[\"format\"]==\"3gp\"][\"lossTaste_daily\"]\n",
    "\n",
    "df = pd.read_csv(\"../openSMILE/3gp/type1_type2/rfe_cv_3gp_type1_type2.csv\")\n",
    "df = df.drop(columns = [\"Unnamed: 0\"])\n",
    "\n",
    "X = np.array(df)\n",
    "\n",
    "#normalize data\n",
    "X_norm, class_weights = prepare_data(X, Y, delete_equal = 1, weighted = 1)"
   ]
  },
  {
   "cell_type": "code",
   "execution_count": null,
   "metadata": {
    "id": "Z7WB9DoYcFbU"
   },
   "outputs": [],
   "source": [
    "#divide in train and test\n",
    "X_fold, X_test, Y_fold, Y_test = train_test_split(X_norm, Y, test_size = 0.2, random_state = 42, stratify = Y) \n",
    "\n",
    "#best model for 3gp\n",
    "model = KNeighborsClassifier(algorithm = 'auto', metric = 'euclidean', n_neighbors = 3, p = 1, weights = 'uniform')\n",
    "model.fit(X_fold, Y_fold)\n",
    "\n",
    "Y_proba = model.predict_proba(X_test)"
   ]
  },
  {
   "cell_type": "code",
   "execution_count": null,
   "metadata": {
    "colab": {
     "base_uri": "https://localhost:8080/",
     "height": 943
    },
    "id": "MmoZ83Rqcin_",
    "outputId": "9c870cb7-39de-460d-f2e9-130f388b3ff5"
   },
   "outputs": [],
   "source": [
    "#one hot encoding the probability to calculate performance\n",
    "Y_hot = np.argmax(Y_proba, axis = 1)\n",
    "\n",
    "#important: the auc on graph is not the weighted one\n",
    "evaluate(X_test, Y_test, Y_hot, \"3gp Type1 and Type2\")"
   ]
  },
  {
   "cell_type": "code",
   "execution_count": null,
   "metadata": {
    "id": "cinUMd7GdVD1"
   },
   "outputs": [],
   "source": [
    "proba = pd.DataFrame(Y_proba)[1].to_list()\n",
    "df_proba = pd.DataFrame({\"Taste and Smell loss\": Y_test, \"Predicted Probability\": proba})"
   ]
  },
  {
   "cell_type": "code",
   "execution_count": null,
   "metadata": {
    "colab": {
     "base_uri": "https://localhost:8080/",
     "height": 354
    },
    "id": "8EAkOY5Md43S",
    "outputId": "50a568b8-5317-486f-a0db-aaf31ba2a21a"
   },
   "outputs": [],
   "source": [
    "import seaborn as sns\n",
    "from scipy import stats\n",
    "\n",
    "sns.boxplot(df_proba[\"Taste and Smell loss\"], y = df_proba[\"Predicted Probability\"], palette= {0: \"lightskyblue\", 1 : \"cornflowerblue\"})\n",
    "plt.savefig(\"../openSMILE/3gp_biomarkers.png\")\n",
    "\n",
    "prob_F,prob_p = stats.ttest_ind(df_proba[df_proba[\"Predicted Probability\"]<=0.5][\"Predicted Probability\"], df_proba[df_proba[\"Predicted Probability\"]>0.5][\"Predicted Probability\"])\n",
    "print(prob_p)\n",
    "\n",
    "df_proba.to_csv(\"../openSMILE/probas/3gp_rfecv_type1_type2.csv\", index = False)"
   ]
  },
  {
   "cell_type": "markdown",
   "metadata": {
    "id": "U7w-RHzRl1fs"
   },
   "source": [
    "# m4a"
   ]
  },
  {
   "cell_type": "markdown",
   "metadata": {
    "id": "xx4TgVeDl1fw"
   },
   "source": [
    "## Type1 and Type2"
   ]
  },
  {
   "cell_type": "code",
   "execution_count": null,
   "metadata": {
    "id": "8ZqG_0F3l1fz"
   },
   "outputs": [],
   "source": [
    "Y = pd.read_csv(\"../Data/prediCovid_taste_loss_dataset_B_trim_june.csv\")\n",
    "Y = Y[Y[\"format\"]==\"m4a\"][\"lossTaste_daily\"]\n",
    "\n",
    "df = pd.read_csv(\"../openSMILE/m4a/type1_type2/rfe_cv_m4a_type1_type2.csv\")\n",
    "df = df.drop(columns = [\"Unnamed: 0\"])\n",
    "\n",
    "X = np.array(df)\n",
    "\n",
    "#normalize data\n",
    "X_norm, class_weights = prepare_data(X, Y, delete_equal = 1, weighted = 1)"
   ]
  },
  {
   "cell_type": "code",
   "execution_count": null,
   "metadata": {
    "id": "g-JPME33l1f4"
   },
   "outputs": [],
   "source": [
    "#divide data in test and train\n",
    "X_fold, X_test, Y_fold, Y_test = train_test_split(X_norm, Y, test_size = 0.2, random_state = 42, stratify = Y) \n",
    "\n",
    "#best model for 3gp\n",
    "model = KNeighborsClassifier(algorithm = 'auto', metric = 'manhattan', n_neighbors = 3, p = 1, weights = 'uniform')\n",
    "model.fit(X_fold, Y_fold)\n",
    "\n",
    "Y_proba = model.predict_proba(X_test)"
   ]
  },
  {
   "cell_type": "code",
   "execution_count": null,
   "metadata": {
    "colab": {
     "base_uri": "https://localhost:8080/",
     "height": 936
    },
    "id": "viclnkDul1f5",
    "outputId": "088921fd-124e-42df-ac2d-970b62c28fda"
   },
   "outputs": [],
   "source": [
    "#one hot encoding the probability to calculate performance\n",
    "Y_hot = np.argmax(Y_proba, axis = 1)\n",
    "\n",
    "#important: the auc on graph is not the weighted one\n",
    "evaluate(X_test, Y_test, Y_hot, \"m4a Type1 and Type2\")"
   ]
  },
  {
   "cell_type": "code",
   "execution_count": null,
   "metadata": {
    "id": "S3JRpqyzl1f6"
   },
   "outputs": [],
   "source": [
    "proba = pd.DataFrame(Y_proba)[1].to_list()\n",
    "df_proba = pd.DataFrame({\"Taste and Smell loss\": Y_test, \"Predicted Probability\": proba})"
   ]
  },
  {
   "cell_type": "code",
   "execution_count": null,
   "metadata": {
    "colab": {
     "base_uri": "https://localhost:8080/",
     "height": 354
    },
    "id": "FVXrFEAVl1f7",
    "outputId": "26ca8146-7a80-417c-eeeb-ca900f8aaa52"
   },
   "outputs": [],
   "source": [
    "import seaborn as sns\n",
    "from scipy import stats\n",
    "\n",
    "sns.boxplot(df_proba[\"Taste and Smell loss\"], y = df_proba[\"Predicted Probability\"], palette= {0: \"lightskyblue\", 1 : \"cornflowerblue\"})\n",
    "\n",
    "plt.savefig(\"../openSMILE/m4a_biomarkers.png\")\n",
    "prob_F,prob_p = stats.ttest_ind(df_proba[df_proba[\"Predicted Probability\"]<=0.5][\"Predicted Probability\"], df_proba[df_proba[\"Predicted Probability\"]>0.5][\"Predicted Probability\"])\n",
    "print(prob_p)\n",
    "\n",
    "df_proba.to_csv(\"../openSMILE/probas/m4a_rfecv_type1_type2.csv\", index = False)"
   ]
  }
 ],
 "metadata": {
  "colab": {
   "name": "RFE probas",
   "provenance": []
  },
  "kernelspec": {
   "display_name": "Python 3",
   "language": "python",
   "name": "python3"
  },
  "language_info": {
   "codemirror_mode": {
    "name": "ipython",
    "version": 3
   },
   "file_extension": ".py",
   "mimetype": "text/x-python",
   "name": "python",
   "nbconvert_exporter": "python",
   "pygments_lexer": "ipython3",
   "version": "3.8.5"
  }
 },
 "nbformat": 4,
 "nbformat_minor": 1
}
